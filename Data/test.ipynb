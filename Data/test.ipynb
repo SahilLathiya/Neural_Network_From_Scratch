{
 "cells": [
  {
   "cell_type": "code",
   "execution_count": 1,
   "metadata": {},
   "outputs": [],
   "source": [
    "import numpy as np\n",
    "import pandas as pd\n",
    "\n",
    "np.random.seed(0)"
   ]
  },
  {
   "cell_type": "code",
   "execution_count": 2,
   "metadata": {},
   "outputs": [],
   "source": [
    "df = pd.read_csv('/raid/home/sahilm/NN_from_scratch/MNIST_from_Scratch/Data/mnist_train.csv')\n",
    "y = df['label']\n",
    "y = y.to_numpy()\n",
    "df = df.drop(columns=['label'])\n",
    "X = df.to_numpy()"
   ]
  },
  {
   "cell_type": "code",
   "execution_count": 3,
   "metadata": {},
   "outputs": [
    {
     "data": {
      "text/plain": [
       "((60000, 784), (60000,))"
      ]
     },
     "execution_count": 3,
     "metadata": {},
     "output_type": "execute_result"
    }
   ],
   "source": [
    "X.shape, y.shape"
   ]
  },
  {
   "cell_type": "code",
   "execution_count": 5,
   "metadata": {},
   "outputs": [
    {
     "data": {
      "text/plain": [
       "array([5, 0, 4, ..., 5, 6, 8])"
      ]
     },
     "execution_count": 5,
     "metadata": {},
     "output_type": "execute_result"
    }
   ],
   "source": [
    "y"
   ]
  },
  {
   "cell_type": "code",
   "execution_count": 96,
   "metadata": {},
   "outputs": [],
   "source": [
    "a = 0\n",
    "b = 1\n",
    "xminimum = np.min(X,axis=0)\n",
    "xmaximum = np.max(X,axis=0)\n",
    "range_of_x = np.double(xmaximum - xminimum)\n",
    "range_of_x[range_of_x==0] = 1e-9\n",
    "xnormalized = a + ( ((X - xminimum) * (b - a)) / range_of_x)"
   ]
  },
  {
   "cell_type": "code",
   "execution_count": 97,
   "metadata": {},
   "outputs": [
    {
     "name": "stdout",
     "output_type": "stream",
     "text": [
      "0.0\n",
      "1.0\n",
      "0.1306628172544276\n",
      "0.3081110004323783\n"
     ]
    }
   ],
   "source": [
    "print(np.min(xnormalized))\n",
    "print(np.max(xnormalized))\n",
    "print(np.mean(xnormalized))\n",
    "print(np.std(xnormalized))"
   ]
  },
  {
   "cell_type": "code",
   "execution_count": 98,
   "metadata": {},
   "outputs": [],
   "source": [
    "# mean = np.mean(xnormalized)\n",
    "# std = np.std(xnormalized)\n",
    "mean = np.mean(xnormalized, axis=0)\n",
    "std = np.std(xnormalized, axis=0)\n",
    "std[std==0] = 1e-9"
   ]
  },
  {
   "cell_type": "code",
   "execution_count": 99,
   "metadata": {},
   "outputs": [],
   "source": [
    "X_normalized = (xnormalized - mean) / std"
   ]
  },
  {
   "cell_type": "code",
   "execution_count": 100,
   "metadata": {},
   "outputs": [
    {
     "name": "stdout",
     "output_type": "stream",
     "text": [
      "-1.2742078920823618\n",
      "244.94693302836026\n",
      "-7.29121978213011e-19\n",
      "0.9563162742139903\n"
     ]
    }
   ],
   "source": [
    "print(np.min(X_normalized))\n",
    "print(np.max(X_normalized))\n",
    "print(np.mean(X_normalized))\n",
    "print(np.std(X_normalized))"
   ]
  },
  {
   "cell_type": "code",
   "execution_count": 101,
   "metadata": {},
   "outputs": [
    {
     "name": "stdout",
     "output_type": "stream",
     "text": [
      "-6.611680213146102e-19\n",
      "0.9145408163265306\n"
     ]
    }
   ],
   "source": [
    "\n",
    "print(np.mean(np.mean(X_normalized, axis=0)))\n",
    "print(np.mean(np.std(X_normalized, axis=0)))"
   ]
  },
  {
   "cell_type": "code",
   "execution_count": null,
   "metadata": {},
   "outputs": [],
   "source": []
  }
 ],
 "metadata": {
  "kernelspec": {
   "display_name": "pytorch",
   "language": "python",
   "name": "python3"
  },
  "language_info": {
   "codemirror_mode": {
    "name": "ipython",
    "version": 3
   },
   "file_extension": ".py",
   "mimetype": "text/x-python",
   "name": "python",
   "nbconvert_exporter": "python",
   "pygments_lexer": "ipython3",
   "version": "3.12.3"
  }
 },
 "nbformat": 4,
 "nbformat_minor": 2
}
